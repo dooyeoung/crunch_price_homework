{
 "cells": [
  {
   "cell_type": "markdown",
   "metadata": {},
   "source": [
    "### 상품 이미지 크롤링"
   ]
  },
  {
   "cell_type": "code",
   "execution_count": 1,
   "metadata": {},
   "outputs": [],
   "source": [
    "from bs4 import BeautifulSoup\n",
    "import urllib.request\n",
    "import urllib.parse\n",
    "import math\n",
    "import threading"
   ]
  },
  {
   "cell_type": "code",
   "execution_count": 2,
   "metadata": {},
   "outputs": [],
   "source": [
    "df = pd.read_csv(\"items.csv\")\n",
    "df.columns =['seq','code','img','name','price','seller','detail']"
   ]
  },
  {
   "cell_type": "code",
   "execution_count": 4,
   "metadata": {},
   "outputs": [],
   "source": [
    "def crawl(start, end):\n",
    "     \n",
    "    for idx in range(start, end):\n",
    "        row = df.iloc[idx]\n",
    "        url = row['img']\n",
    "        \n",
    "        try: \n",
    "            response = urllib.request.urlopen(url, timeout=1000)\n",
    "            html = response.read()\n",
    "            soup = BeautifulSoup(html, 'html.parser')\n",
    "\n",
    "            ex_id_divs = soup.select(\"#mainImage > img\")\n",
    "            \n",
    "            if len(ex_id_divs) > 0:\n",
    "                src = ex_id_divs[0].get('src')\n",
    "                result.append([row['seq'], src])\n",
    "        except Exception as e: \n",
    "            print(e,row['seq'], url)\n",
    "            errors.append([row['seq'], url])\n",
    "            print(\"=================================================\")"
   ]
  },
  {
   "cell_type": "code",
   "execution_count": null,
   "metadata": {},
   "outputs": [],
   "source": [
    "thread_num = 10\n",
    "total = len(df)\n",
    "result = [] \n",
    "errors = []\n",
    "np = math.ceil(total / thread_num)\n",
    "for idx in range(1, 11):\n",
    "     \n",
    "    # 스레드당 담당할 페이지\n",
    "    start = (idx-1) * np + 1\n",
    "    end = np * idx + 1\n",
    "    \n",
    "    if end > total:\n",
    "        end = total + 1\n",
    "    print(start, end)\n",
    "\n",
    "    #crawl(start, end) \n",
    "    th = threading.Thread(target=crawl, args=(start, end))\n",
    "    th.start() "
   ]
  },
  {
   "cell_type": "code",
   "execution_count": 133,
   "metadata": {},
   "outputs": [],
   "source": [
    "suc = pd.DataFrame(result)\n",
    "suc.to_csv('img_success.csv', index=False)"
   ]
  },
  {
   "cell_type": "code",
   "execution_count": 134,
   "metadata": {},
   "outputs": [],
   "source": [
    "err = pd.DataFrame(errors)\n",
    "err.to_csv('img_error.csv', index=False)"
   ]
  }
 ],
 "metadata": {
  "kernelspec": {
   "display_name": "Python 3",
   "language": "python",
   "name": "python3"
  },
  "language_info": {
   "codemirror_mode": {
    "name": "ipython",
    "version": 3
   },
   "file_extension": ".py",
   "mimetype": "text/x-python",
   "name": "python",
   "nbconvert_exporter": "python",
   "pygments_lexer": "ipython3",
   "version": "3.6.5"
  }
 },
 "nbformat": 4,
 "nbformat_minor": 2
}
