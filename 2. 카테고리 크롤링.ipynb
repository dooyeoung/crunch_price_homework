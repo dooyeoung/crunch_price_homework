{
 "cells": [
  {
   "cell_type": "markdown",
   "metadata": {},
   "source": [
    "### 네이버쇼핑에서 카테고리 클롤링"
   ]
  },
  {
   "cell_type": "code",
   "execution_count": 345,
   "metadata": {},
   "outputs": [],
   "source": [
    "from sklearn.feature_extraction.text import TfidfVectorizer\n",
    "from sklearn.feature_extraction.text import CountVectorizer\n",
    "from sklearn.feature_extraction.text import HashingVectorizer\n",
    "from nltk import word_tokenize\n",
    "from bs4 import BeautifulSoup\n",
    "import urllib.request\n",
    "import urllib.parse\n",
    "import math\n",
    "import threading\n",
    "from selenium import webdriver\n",
    "from time import sleep\n",
    "from konlpy.tag import Okt"
   ]
  },
  {
   "cell_type": "code",
   "execution_count": 2,
   "metadata": {},
   "outputs": [],
   "source": [
    "df = pd.read_csv(\"items.csv\")\n",
    "df.columns =['seq','code','img','name','price','seller','detail']"
   ]
  },
  {
   "cell_type": "code",
   "execution_count": 393,
   "metadata": {},
   "outputs": [
    {
     "data": {
      "text/html": [
       "<div>\n",
       "<style scoped>\n",
       "    .dataframe tbody tr th:only-of-type {\n",
       "        vertical-align: middle;\n",
       "    }\n",
       "\n",
       "    .dataframe tbody tr th {\n",
       "        vertical-align: top;\n",
       "    }\n",
       "\n",
       "    .dataframe thead th {\n",
       "        text-align: right;\n",
       "    }\n",
       "</style>\n",
       "<table border=\"1\" class=\"dataframe\">\n",
       "  <thead>\n",
       "    <tr style=\"text-align: right;\">\n",
       "      <th></th>\n",
       "      <th>seq</th>\n",
       "      <th>code</th>\n",
       "      <th>img</th>\n",
       "      <th>name</th>\n",
       "      <th>price</th>\n",
       "      <th>seller</th>\n",
       "      <th>detail</th>\n",
       "    </tr>\n",
       "  </thead>\n",
       "  <tbody>\n",
       "    <tr>\n",
       "      <th>82971</th>\n",
       "      <td>49,381</td>\n",
       "      <td>1000236324</td>\n",
       "      <td>http://crunchprice.com/goods/goods_view.php?go...</td>\n",
       "      <td>[아펙슨] 아펙슨 AT-533/3in1/멀티카타/건타카/타카총</td>\n",
       "      <td>12,000원</td>\n",
       "      <td>공구랜드</td>\n",
       "      <td>./goods_register.php?goodsNo=1000236324</td>\n",
       "    </tr>\n",
       "    <tr>\n",
       "      <th>82972</th>\n",
       "      <td>49,380</td>\n",
       "      <td>1000236323</td>\n",
       "      <td>http://crunchprice.com/goods/goods_view.php?go...</td>\n",
       "      <td>[라이카] 라이카 DISTO D1/최대40m/레이저 거리측정기</td>\n",
       "      <td>85,000원</td>\n",
       "      <td>공구랜드</td>\n",
       "      <td>./goods_register.php?goodsNo=1000236323</td>\n",
       "    </tr>\n",
       "    <tr>\n",
       "      <th>82973</th>\n",
       "      <td>49,379</td>\n",
       "      <td>1000236322</td>\n",
       "      <td>http://crunchprice.com/goods/goods_view.php?go...</td>\n",
       "      <td>[아펙슨] 아펙슨 AT-569/4in1/멀티카타/건타카/타카총</td>\n",
       "      <td>18,800원</td>\n",
       "      <td>공구랜드</td>\n",
       "      <td>./goods_register.php?goodsNo=1000236322</td>\n",
       "    </tr>\n",
       "    <tr>\n",
       "      <th>82974</th>\n",
       "      <td>49,378</td>\n",
       "      <td>1000236321</td>\n",
       "      <td>http://crunchprice.com/goods/goods_view.php?go...</td>\n",
       "      <td>한국OSG 엔드밀/앤드밀/2날 4날/2mm~14mm</td>\n",
       "      <td>6,140원</td>\n",
       "      <td>공구랜드</td>\n",
       "      <td>./goods_register.php?goodsNo=1000236321</td>\n",
       "    </tr>\n",
       "    <tr>\n",
       "      <th>82975</th>\n",
       "      <td>49,377</td>\n",
       "      <td>1000236320</td>\n",
       "      <td>http://crunchprice.com/goods/goods_view.php?go...</td>\n",
       "      <td>태진 국산 EPB64C 전자부품보관대</td>\n",
       "      <td>739,200원</td>\n",
       "      <td>공구랜드</td>\n",
       "      <td>./goods_register.php?goodsNo=1000236320</td>\n",
       "    </tr>\n",
       "  </tbody>\n",
       "</table>\n",
       "</div>"
      ],
      "text/plain": [
       "          seq        code                                                img  \\\n",
       "82971  49,381  1000236324  http://crunchprice.com/goods/goods_view.php?go...   \n",
       "82972  49,380  1000236323  http://crunchprice.com/goods/goods_view.php?go...   \n",
       "82973  49,379  1000236322  http://crunchprice.com/goods/goods_view.php?go...   \n",
       "82974  49,378  1000236321  http://crunchprice.com/goods/goods_view.php?go...   \n",
       "82975  49,377  1000236320  http://crunchprice.com/goods/goods_view.php?go...   \n",
       "\n",
       "                                     name     price                    seller  \\\n",
       "82971  [아펙슨] 아펙슨 AT-533/3in1/멀티카타/건타카/타카총   12,000원  공구랜드                       \n",
       "82972  [라이카] 라이카 DISTO D1/최대40m/레이저 거리측정기   85,000원  공구랜드                       \n",
       "82973  [아펙슨] 아펙슨 AT-569/4in1/멀티카타/건타카/타카총   18,800원  공구랜드                       \n",
       "82974        한국OSG 엔드밀/앤드밀/2날 4날/2mm~14mm    6,140원  공구랜드                       \n",
       "82975                태진 국산 EPB64C 전자부품보관대  739,200원  공구랜드                       \n",
       "\n",
       "                                        detail  \n",
       "82971  ./goods_register.php?goodsNo=1000236324  \n",
       "82972  ./goods_register.php?goodsNo=1000236323  \n",
       "82973  ./goods_register.php?goodsNo=1000236322  \n",
       "82974  ./goods_register.php?goodsNo=1000236321  \n",
       "82975  ./goods_register.php?goodsNo=1000236320  "
      ]
     },
     "execution_count": 393,
     "metadata": {},
     "output_type": "execute_result"
    }
   ],
   "source": [
    "df.tail()"
   ]
  },
  {
   "cell_type": "markdown",
   "metadata": {},
   "source": [
    "### 상품명을 token으로 분리하여 단어 추출"
   ]
  },
  {
   "cell_type": "code",
   "execution_count": 30,
   "metadata": {
    "scrolled": true
   },
   "outputs": [
    {
     "data": {
      "text/plain": [
       "82976"
      ]
     },
     "execution_count": 30,
     "metadata": {},
     "output_type": "execute_result"
    }
   ],
   "source": [
    "res = []\n",
    "twitter = Okt()\n",
    "for txt in list(df['name'].values):\n",
    "    tokens = word_tokenize(txt)\n",
    "    nonus = twitter.nouns(txt) \n",
    "    \n",
    "    tokens = [w for w in tokens if w not in ['/','[',']','(',')','x',',','-','%','#']]\n",
    "    tokens.extend(nonus)\n",
    " \n",
    "    res.append(set(tokens)) \n",
    "\n",
    "# 한글자 토큰은 제외한다\n",
    "fres = [[w for w in tokens if len(w) != 1] for tokens in res]"
   ]
  },
  {
   "cell_type": "markdown",
   "metadata": {},
   "source": [
    "### 카테고리 크롤링 시작"
   ]
  },
  {
   "cell_type": "code",
   "execution_count": 342,
   "metadata": {},
   "outputs": [],
   "source": [
    "def get_cate(tc):\n",
    "    count = {}\n",
    "    for cate in tc:\n",
    "        if cate in count.keys():\n",
    "            continue\n",
    "        else:\n",
    "            count[cate] = tc.count(cate)\n",
    "            \n",
    "    count = pd.DataFrame(list(count.items()))\n",
    "    count = count.sort_values(by=1, ascending=False).reset_index(drop=True)\n",
    "    \n",
    "    # 많이 출현한 카테고리 10개 추출\n",
    "    cten = count.iloc[:10]\n",
    "    # softmax로 비율 계산\n",
    "    e = np.exp(cten[1])\n",
    "    cten[2] = (e / np.sum(e)).round(3)\n",
    "\n",
    "    # 상위 3개 카테고리\n",
    "    t3c = cten.iloc[:3][0].values\n",
    "    \n",
    "    \n",
    "    # 카테고리를 구성하는 단어로 빈도 계산\n",
    "    tmp = {}\n",
    "    for idx, tokens in enumerate(cten[0].values):\n",
    "        ws = cten[0].values[idx].replace(' ','').split('>')\n",
    "\n",
    "        for w in ws:\n",
    "            if w in tmp.keys():\n",
    "                tmp[w] += cten.iloc[idx][1]\n",
    "            else:\n",
    "                tmp[w] = cten.iloc[idx][1]\n",
    "                \n",
    "    e = np.exp(list(tmp.values()))\n",
    "    tmp2 = pd.DataFrame( e/ np.sum(e), list(tmp.keys()))\n",
    "    tmp2[0] = tmp2[0].round(5)\n",
    "    \n",
    "    t3w = tmp2.iloc[:3].index.values\n",
    "    \n",
    "    return t3c, t3w"
   ]
  },
  {
   "cell_type": "code",
   "execution_count": null,
   "metadata": {
    "scrolled": true
   },
   "outputs": [],
   "source": [
    "driver = webdriver.Chrome()\n",
    " \n",
    "total_res = []\n",
    "for idx, tokens in enumerate(fres):\n",
    "    tc = []\n",
    "    for w in tokens:\n",
    "        try:\n",
    "            url = \"https://search.shopping.naver.com/search/all.nhn?query={}\".format(w)\n",
    "            driver.get(url)\n",
    "            sleep(0.5)\n",
    " \n",
    "            soup = BeautifulSoup(driver.find_element_by_tag_name('body').get_attribute('innerHTML')   , 'html.parser')\n",
    " \n",
    "            cates = driver.find_elements_by_css_selector(\"span.depth\")\n",
    "            for c in cates:\n",
    "                tc.append(c.text)\n",
    "        except Exception as e:\n",
    "            print(e)\n",
    "    \n",
    "    c3, w3 = get_cate(tc) \n",
    "    total_res.append([df.iloc[idx]['seq'], c3, w3])\n",
    "    \n",
    "driver.close()"
   ]
  },
  {
   "cell_type": "code",
   "execution_count": 350,
   "metadata": {
    "scrolled": true
   },
   "outputs": [],
   "source": [
    "c_res = pd.DataFrame(total_res)\n",
    "c_res = c_res.rename(columns={0:'seq',1:'cate',2:'keyword'})"
   ]
  },
  {
   "cell_type": "markdown",
   "metadata": {},
   "source": [
    "### 상품명과 카테고리 비교"
   ]
  },
  {
   "cell_type": "code",
   "execution_count": 374,
   "metadata": {},
   "outputs": [],
   "source": [
    "merged = df.merge(c_res, on=[\"seq\"])\n",
    "ex10 = merged.filter(items=['seq','name','cate','keyword'])[:10]"
   ]
  },
  {
   "cell_type": "code",
   "execution_count": 400,
   "metadata": {},
   "outputs": [
    {
     "name": "stdout",
     "output_type": "stream",
     "text": [
      "name :  이테크 E400 / E-400 5W 보급형 고성능 업무용 무전기\n",
      "category:\n",
      "     디지털/가전 > 생활가전 > 무전기 > 업무용무전기\n",
      "     생활/건강 > 생활용품 > 세제/세정제 > 세탁세제\n",
      "     식품 > 건강식품 > 영양제 > 기타건강기능식품\n",
      "keyword :  디지털/가전,생활가전,무전기\n",
      "========================================================\n",
      "name :  라디오텍 생활무전기 RT320S RT-320S 매장 음식점 병원 식당\n",
      "category:\n",
      "     디지털/가전 > 생활가전 > 무전기 > 생활용무전기\n",
      "     디지털/가전 > 생활가전 > 무전기 > 업무용무전기\n",
      "     생활/건강 > 주방용품 > 칼/커팅기구 > 다지기\n",
      "keyword :  디지털/가전,생활가전,무전기\n",
      "========================================================\n",
      "name :  [코카콜라]미닛메이드 망고 175mL x 30캔[도매퍼스트]\n",
      "category:\n",
      "     식품 > 음료 > 청량/탄산음료 > 콜라\n",
      "     식품 > 농산물 > 과일 > 망고\n",
      "     식품 > 음료 > 주스/과즙음료 > 오렌지주스\n",
      "keyword :  식품,음료,청량/탄산음료\n",
      "========================================================\n",
      "name :  [모토로라] 생활무전기 TLKR-T82EX 익스트림 히든디스플레이/27채널/이어마이크/휴대용케이스\n",
      "category:\n",
      "     디지털/가전 > 생활가전 > 무전기 > 생활용무전기\n",
      "     디지털/가전 > 휴대폰액세서리 > 휴대폰케이스 > 기타케이스\n",
      "     패션잡화 > 남성신발 > 스니커즈\n",
      "keyword :  디지털/가전,생활가전,무전기\n",
      "========================================================\n",
      "name :  오뚜기 통 흑 후추 50G 1박스 12개\n",
      "category:\n",
      "     생활/건강 > 공구 > 포장용품 > 택배박스\n",
      "     식품 > 가공식품 > 조미료 > 후추\n",
      "     식품 > 가공식품 > 간편조리식\n",
      "keyword :  생활/건강,공구,포장용품\n",
      "========================================================\n",
      "name :  [아재스토리](영상상품)텐미닛 바르는 제모크림(Body hair removal) 100ml/다리털제모/겨드랑이털제모/배렛나루제모/왁싱\n",
      "category:\n",
      "     화장품/미용 > 바디케어 > 제모제\n",
      "     화장품/미용 > 스킨케어 > 크림\n",
      "     화장품/미용 > 바디케어 > 바디로션\n",
      "keyword :  화장품/미용,바디케어,제모제\n",
      "========================================================\n",
      "name :  오뚜기 옛날구수한끓여먹는누룽지 900g 12개입 1박스\n",
      "category:\n",
      "     식품 > 가공식품 > 누룽지\n",
      "     생활/건강 > 공구 > 포장용품 > 택배박스\n",
      "     식품 > 가공식품 > 간편조리식\n",
      "keyword :  식품,가공식품,누룽지\n",
      "========================================================\n",
      "name :  [아재스토리](영상쇼핑)[캐치비]향기나는 고양이 저금통/아로마 오일 1병(10mL)/인테리어소품/위생적해충퇴치/여자친구선물/집들이선물용/인테리어소품\n",
      "category:\n",
      "     가구/인테리어 > 인테리어소품 > 아로마/캔들용품 > 아로마방향제/디퓨저\n",
      "     생활/건강 > 문구/사무용품 > 팬시용품 > 저금통\n",
      "     생활/건강 > 생활용품 > 해충퇴치용품 > 에어졸/스프레이\n",
      "keyword :  가구/인테리어,인테리어소품,아로마/캔들용품\n",
      "========================================================\n",
      "name :  오뚜기 옛날구수한끓여먹는누룽지 240g 12개입 1박스\n",
      "category:\n",
      "     식품 > 가공식품 > 누룽지\n",
      "     생활/건강 > 공구 > 포장용품 > 택배박스\n",
      "     식품 > 가공식품 > 간편조리식\n",
      "keyword :  식품,가공식품,누룽지\n",
      "========================================================\n",
      "name :  옛날구수한끓여먹는 보리누룽지 240g 12개입 1박스\n",
      "category:\n",
      "     식품 > 가공식품 > 누룽지\n",
      "     생활/건강 > 공구 > 포장용품 > 택배박스\n",
      "     식품 > 농산물 > 잡곡/혼합곡 > 보리\n",
      "keyword :  식품,가공식품,누룽지\n",
      "========================================================\n"
     ]
    }
   ],
   "source": [
    "for idx in range(len(ex10)):\n",
    "    print(\"name : \",ex10.iloc[idx]['name'])\n",
    "    print(\"category:\")\n",
    "    for c in ex10.iloc[idx]['cate']:\n",
    "        print(\"    \",c)\n",
    "    print(\"keyword : \",\",\".join(ex10.iloc[idx]['keyword']))\n",
    "    print(\"========================================================\")"
   ]
  },
  {
   "cell_type": "markdown",
   "metadata": {},
   "source": [
    "1. konlpy의 twitter tokennizer를 사용하여 상품명에서 명사만 추출\n",
    "2. 추출한 명사를 네이버 쇼핑에 검색하여 검색결과 목록에서 카테고리 정보만 크롤링\n",
    "3. 크롤링한 카테고리중 출현빈도가 높은 3개의 카테고리 추출하여 저장\n",
    "4. 크롤링한 카테고리중 출현빈도가 높은 10개의 카테고리를 토큰으로 분리하여 출현빈도가 높은 3개를 키워드로 저장"
   ]
  },
  {
   "cell_type": "code",
   "execution_count": null,
   "metadata": {},
   "outputs": [],
   "source": []
  }
 ],
 "metadata": {
  "kernelspec": {
   "display_name": "Python 3",
   "language": "python",
   "name": "python3"
  },
  "language_info": {
   "codemirror_mode": {
    "name": "ipython",
    "version": 3
   },
   "file_extension": ".py",
   "mimetype": "text/x-python",
   "name": "python",
   "nbconvert_exporter": "python",
   "pygments_lexer": "ipython3",
   "version": "3.6.5"
  }
 },
 "nbformat": 4,
 "nbformat_minor": 2
}
