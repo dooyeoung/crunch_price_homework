{
 "cells": [
  {
   "cell_type": "markdown",
   "metadata": {},
   "source": [
    "### 크런치 프라이스 전체 상품 크롤링"
   ]
  },
  {
   "cell_type": "code",
   "execution_count": 5,
   "metadata": {},
   "outputs": [],
   "source": [
    "from selenium import webdriver\n",
    "from selenium.webdriver.support.ui import Select\n",
    "from bs4 import BeautifulSoup\n",
    "from time import sleep\n",
    "import math\n",
    "import warnings\n",
    "import threading\n",
    "warnings.filterwarnings('ignore')"
   ]
  },
  {
   "cell_type": "code",
   "execution_count": 2,
   "metadata": {},
   "outputs": [],
   "source": [
    "driver = webdriver.Chrome()\n",
    "# 로그인\n",
    "driver.get(\"http://gdadmin.crunchprice.com/base/login.php\")\n",
    "driver.find_element_by_id(\"login\").send_keys(\"dooyeoung\") \n",
    "driver.find_element_by_name(\"managerPw\").send_keys(\"dooyeoung123!\")\n",
    "driver.find_element_by_css_selector(\"input[type=submit]\").click() \n",
    "\n",
    "# 상품관리 메뉴 이동\n",
    "while(True):\n",
    "    goods = driver.find_elements_by_id(\"menu_goods\")\n",
    "    if len(goods) > 0: \n",
    "        break\n",
    "\n",
    "trcnt = 200\n",
    "driver.get(\"http://gdadmin.crunchprice.com/goods/goods_list.php?page={}&pageNum={}\".format(1, trcnt))\n",
    "\n",
    "total_cnt = driver.find_element_by_css_selector(\"#frmSearchGoods > div.table-header > div.pull-left > strong:nth-child(2)\")\n",
    "total_cnt = int(total_cnt.text.replace(\",\",\"\"))\n",
    "totla_pages = math.ceil(total_cnt / trcnt)"
   ]
  },
  {
   "cell_type": "code",
   "execution_count": 3,
   "metadata": {},
   "outputs": [],
   "source": [
    "def crawl(start, end):\n",
    "    print(start, end)\n",
    "    driver = webdriver.PhantomJS()\n",
    "    \n",
    "    driver.get(\"http://gdadmin.crunchprice.com/base/login.php\")\n",
    "    driver.find_element_by_id(\"login\").send_keys(\"dooyeoung\") \n",
    "    driver.find_element_by_name(\"managerPw\").send_keys(\"dooyeoung123!\")\n",
    "    driver.find_element_by_css_selector(\"input[type=submit]\").click() \n",
    "\n",
    "    # 상품관리 메뉴 이동\n",
    "    while(True):\n",
    "        goods = driver.find_elements_by_id(\"menu_goods\")\n",
    "        if len(goods) > 0: \n",
    "            break\n",
    "            \n",
    "     \n",
    "    #total = 0 \n",
    "    for cur_page in range(start, end): \n",
    "        \n",
    "        next_page = \"http://gdadmin.crunchprice.com/goods/goods_list.php?page={}&pageNum={}\".format(cur_page, trcnt)\n",
    "        driver.get(next_page)\n",
    "        \n",
    "        trs = driver.find_elements_by_css_selector(\"#frmList > table > tbody > tr\")\n",
    "        \n",
    "        if len(trs) == 0:\n",
    "            break\n",
    "            \n",
    "        for tr in trs:\n",
    "            html= tr.get_attribute('innerHTML')\n",
    "            soup = BeautifulSoup(html) \n",
    "            tds = soup.find_all(\"td\")\n",
    "            seq = tds[1].text\n",
    "            code = tds[2].text    \n",
    "            img = tds[3].find('a')['href']\n",
    "            name = tds[4].find('div').text\n",
    "            price = tds[5].text.strip()\n",
    "            seller = tds[6].text\n",
    "            link = tds[11].find('a')['href']  \n",
    "\n",
    "            result.append([seq, code, img, name, price, seller, link])\n",
    "\n",
    "        #total += len(trs) \n",
    "\n",
    "        \n",
    "        sleep(0.5) \n",
    "        #del trs \n",
    "        \n",
    "    #driver.close() "
   ]
  },
  {
   "cell_type": "code",
   "execution_count": null,
   "metadata": {},
   "outputs": [],
   "source": [
    "thread_num = 10\n",
    "np = math.ceil(totla_pages / thread_num)\n",
    "for idx in range(1, 11):\n",
    "     \n",
    "    # 스레드당 담당할 페이지\n",
    "    start = (idx-1) * np + 1\n",
    "    end = np * idx + 1\n",
    "    \n",
    "    result = []\n",
    " \n",
    "    th = threading.Thread(target=crawl, args=(start, end))\n",
    "    th.start() "
   ]
  },
  {
   "cell_type": "code",
   "execution_count": 18,
   "metadata": {},
   "outputs": [],
   "source": [
    "df = pd.DataFrame(result)\n",
    "df.to_csv(\"items.csv\", index=False)"
   ]
  }
 ],
 "metadata": {
  "kernelspec": {
   "display_name": "Python 3",
   "language": "python",
   "name": "python3"
  },
  "language_info": {
   "codemirror_mode": {
    "name": "ipython",
    "version": 3
   },
   "file_extension": ".py",
   "mimetype": "text/x-python",
   "name": "python",
   "nbconvert_exporter": "python",
   "pygments_lexer": "ipython3",
   "version": "3.6.5"
  }
 },
 "nbformat": 4,
 "nbformat_minor": 2
}
